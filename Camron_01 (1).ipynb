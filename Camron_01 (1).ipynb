{
  "metadata": {
    "kernelspec": {
      "name": "python",
      "display_name": "Python (Pyodide)",
      "language": "python"
    },
    "language_info": {
      "codemirror_mode": {
        "name": "python",
        "version": 3
      },
      "file_extension": ".py",
      "mimetype": "text/x-python",
      "name": "python",
      "nbconvert_exporter": "python",
      "pygments_lexer": "ipython3",
      "version": "3.8"
    }
  },
  "nbformat_minor": 5,
  "nbformat": 4,
  "cells": [
    {
      "id": "9662031c-8c25-4e4b-9d63-acf29b0c8449",
      "cell_type": "markdown",
      "source": "# 1. Programming Assignment: Python Basics ",
      "metadata": {}
    },
    {
      "id": "2a3984d6-14e0-446f-9229-02e10050d983",
      "cell_type": "markdown",
      "source": "## List basics",
      "metadata": {}
    },
    {
      "id": "a72259ab-5b16-4dab-be0e-fde298033b6b",
      "cell_type": "markdown",
      "source": "Given the user inputs, complete a program that does the following tasks:\n\n- Define a list, myList, containing the user inputs myFlower1, myFlower2, and myFlower3 in the same order.\n- Define a list, yourList, containing the user inputs yourFlower1 and yourFlower2 in the same order.\n- Define a list, ourList, by concatenating myList and yourList.\n- Append the user input theirFlower to the end of ourList.\n- Replace myFlower2 in ourList with theirFlower.\n- Remove the third element of ourList.\n\nObserve the output of each print statement carefully to understand what was done by each task of the program.\n\nEx: If the input is:\n\n    rose\n    peony\n    lily\n    rose\n    daisy\n    aster\nthe output is:\n    \n    ['rose', 'peony', 'lily']\n    ['rose', 'daisy']\n    ['rose', 'peony', 'lily', 'rose', 'daisy']\n    ['rose', 'peony', 'lily', 'rose', 'daisy', 'aster']\n    ['rose', 'aster', 'lily', 'rose', 'daisy', 'aster']\n    ['rose', 'aster', 'rose', 'daisy', 'aster']",
      "metadata": {}
    },
    {
      "id": "fd77d0d6-b3c0-47cc-a66c-ed6fc672f9a6",
      "cell_type": "code",
      "source": "myFlower1 = input()\nmyFlower2 = input()\nmyFlower3 = input()\n\nyourFlower1 = input()\nyourFlower2 = input()\n\ntheirFlower = input()\n\n# Define myList containing myFlower1, myFlower2, and myFlower3 in that order\nmyList = [myFlower1, myFlower2, myFlower3]\nprint(myList)\n\n# Define yourList containing yourFlower1 and yourFlower2 in that order\nyourList = [yourFlower1, yourFlower2]\nprint(yourList)\n\n# Define ourList by concatenating myList and yourList\nourList = myList + yourList\nprint(ourList)\n\n# Append theirFlower to the end of ourList\nourList.append(theirFlower)\nprint(ourList)\n\n# Replace myFlower2 in ourList with theirFlower\nourList[1] = theirFlower\nprint(ourList)\n\n# Remove the third element of ourList\nourList.pop(2)\nprint(ourList)",
      "metadata": {
        "trusted": true
      },
      "outputs": [],
      "execution_count": null
    },
    {
      "id": "5c9fe6ee-1fd0-4d5e-911b-d7090d16e3cb",
      "cell_type": "markdown",
      "source": "## Set basics ",
      "metadata": {}
    },
    {
      "id": "672fa2b5-dd57-4557-8135-89bc8fbc9ed5",
      "cell_type": "markdown",
      "source": "\nGiven the user inputs, complete a program that does the following tasks:\n\n- Define a set, fruits, containing the user inputs myFruit1, myFruit2, and myFruit3.\n- Add the user input theirFruit to fruits.\n- Find the intersection of fruits and yourFruit1 and yourFruit2\n- Remove myFruit1 from fruits.\nNote: For testing purposes, sets are printed using sorted() for comparison.\n\nEx: If the input is:\n\n    apple\n    peach\n    lemon\n    apple\n    pear\n    plum\n\nthe output is:\n\n    ['apple', 'lemon', 'peach']\n    ['apple', 'lemon', 'peach', 'plum']\n    ['apple']\n    ['lemon', 'peach', 'plum']",
      "metadata": {}
    },
    {
      "id": "b20f3db1-4112-4a3c-b889-8a1d5bf8f807",
      "cell_type": "code",
      "source": "# User inputs\nmyFruit1 = input()\nmyFruit2 = input()\nmyFruit3 = input()\n\nyourFruit1 = input()\nyourFruit2 = input()\n\ntheirFruit = input()\n\n# Define a set, fruits, containing myFruit1, myFruit2, and myFruit3\nfruits = {myFruit1, myFruit2, myFruit3}\nprint(sorted(fruits))\n\n# Add theirFruit to fruits\nfruits.add(theirFruit)\nprint(sorted(fruits))\n\n# Find the intersection of fruits and yourFruit1 and yourFruit2\nfruitsInter = fruits.intersection({yourFruit1, yourFruit2})\nprint(sorted(fruitsInter))\n\n# Remove myFruit1 from fruits\nfruits.discard(myFruit1)  # Use discard to avoid error if myFruit1 is not present\nprint(sorted(fruits))",
      "metadata": {},
      "outputs": [],
      "execution_count": null
    }
  ]
}